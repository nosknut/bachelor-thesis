{
 "cells": [
  {
   "cell_type": "markdown",
   "metadata": {},
   "source": [
    "# Spur gear calculations"
   ]
  },
  {
   "cell_type": "markdown",
   "metadata": {},
   "source": [
    "## List of Formulas"
   ]
  },
  {
   "cell_type": "markdown",
   "metadata": {},
   "source": [
    "https://grobinc.com/spur-gear-terminology-formulas/"
   ]
  },
  {
   "cell_type": "code",
   "execution_count": 5,
   "metadata": {},
   "outputs": [],
   "source": [
    "# Outside_Diameter = (Number_of_teeth + 2) / diametral_pitch\n",
    "# Diametral_Pitch = Number_of_teeth / pitch_diameter\n",
    "# Number_of_Teeth = Pitch_diameter * diametral_pitch"
   ]
  },
  {
   "cell_type": "code",
   "execution_count": 6,
   "metadata": {},
   "outputs": [],
   "source": [
    "# Diametral_Pitch = Number_of_teeth / pitch_diameter\n",
    "# Number_of_Teeth = Pitch_diameter * diametral_pitch\n",
    "# diametral_pitch = Number_of_Teeth / Pitch_diameter\n",
    "# Module = Pitch_diameter / Number_of_Teeth\n",
    "# Pitch_diameter = Module * Number_of_Teeth\n",
    "\n",
    "# Outside_Diameter = (Number_of_teeth + 2) * Module\n",
    "\n",
    "# Number_of_teeth = (Outside_Diameter / Module) - 2"
   ]
  },
  {
   "cell_type": "markdown",
   "metadata": {},
   "source": [
    "## Module from outer diameter and number of teeth"
   ]
  },
  {
   "cell_type": "code",
   "execution_count": 7,
   "metadata": {},
   "outputs": [
    {
     "data": {
      "text/plain": [
       "3.5294117647058822"
      ]
     },
     "execution_count": 7,
     "metadata": {},
     "output_type": "execute_result"
    }
   ],
   "source": [
    "Outside_Diameter = 60\n",
    "Number_of_teeth = 15\n",
    "Module = Outside_Diameter / (Number_of_teeth + 2) \n",
    "Module"
   ]
  },
  {
   "cell_type": "markdown",
   "metadata": {},
   "source": [
    "## Pitch diameter from module and number of teeth"
   ]
  },
  {
   "cell_type": "code",
   "execution_count": 8,
   "metadata": {},
   "outputs": [
    {
     "data": {
      "text/plain": [
       "52.5"
      ]
     },
     "execution_count": 8,
     "metadata": {},
     "output_type": "execute_result"
    }
   ],
   "source": [
    "Module = 3.5\n",
    "Number_of_Teeth = 15\n",
    "Pitch_diameter = Module * Number_of_Teeth\n",
    "Pitch_diameter"
   ]
  },
  {
   "cell_type": "markdown",
   "metadata": {},
   "source": [
    "## Outer diameter from module and number of teeth"
   ]
  },
  {
   "cell_type": "code",
   "execution_count": 9,
   "metadata": {},
   "outputs": [
    {
     "data": {
      "text/plain": [
       "59.5"
      ]
     },
     "execution_count": 9,
     "metadata": {},
     "output_type": "execute_result"
    }
   ],
   "source": [
    "Outside_Diameter = (Number_of_teeth + 2) * Module\n",
    "Outside_Diameter"
   ]
  }
 ],
 "metadata": {
  "kernelspec": {
   "display_name": "Python 3",
   "language": "python",
   "name": "python3"
  },
  "language_info": {
   "codemirror_mode": {
    "name": "ipython",
    "version": 3
   },
   "file_extension": ".py",
   "mimetype": "text/x-python",
   "name": "python",
   "nbconvert_exporter": "python",
   "pygments_lexer": "ipython3",
   "version": "3.12.3"
  }
 },
 "nbformat": 4,
 "nbformat_minor": 2
}
